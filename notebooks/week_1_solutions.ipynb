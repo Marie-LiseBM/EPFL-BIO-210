{
 "cells": [
  {
   "cell_type": "markdown",
   "id": "3f18200a-34d1-4637-a8bd-b96b0e0de43d",
   "metadata": {},
   "source": [
    "### BIO-210: Projects in Informatics for SV\n",
    "# Python Introduction I - Programming Basics and Data Types"
   ]
  },
  {
   "cell_type": "markdown",
   "id": "a197e9ca-4d53-4ecf-b055-2f1ac30f8ee5",
   "metadata": {},
   "source": [
    "Welcome to the course \"**Project in Informatics for SV**\"! During this semester you will learn how to use the programming language **Python** to develop a medium-sized project. The first 4 exercise sessions, including this one, will focus on teaching you the fundamentals of Python programming.\n",
    "\n",
    "This page that you have opened is called a **Notebook**. It is a convenient development tool, as it allows you to run your code in blocks (called **cells**) and immediately visualize the output. Furthermore, the variables defined in a cell are stored in memory and are readily available in all other cells. In the cell below, we are performing the operation 3 + 4. To execute it and visualize the result, just select the cell with your mouse (or moving down with an arrow) and press the **play** button in the command bar at the top of this page. Alternatively, you can use the shortcut [ctrl] + [enter] to run the cell ([shift] + [enter] to run the cell and move to the next one)."
   ]
  },
  {
   "cell_type": "code",
   "execution_count": null,
   "id": "6c5901dd-c891-4c4a-a387-8ecad3df4434",
   "metadata": {},
   "outputs": [],
   "source": [
    "3 + 4"
   ]
  },
  {
   "cell_type": "markdown",
   "id": "f026b5e8-376d-48a7-97fd-52f0c995f232",
   "metadata": {},
   "source": [
    "If you ran the cell correctly, you should see the output \"7\" appearing below your cell.\n",
    "\n",
    "Now you are ready to create your first cell. A cell can be of 3 types: **Code**, **Markdown** or **Raw**. To create a new cell, just press the \"+\" button in the command bar. Alternatively, select a cell (the cell, not its content!) and press the key \"b\" or \"a\" to create a cell below or above. By default, the cell is created in Code mode. This means that you can right away write your code and run it. You can switch mode by selecting it in the command bar, or with the shortcuts \"m\" for Markdown, \"r\" for Raw and \"y\" for code.\n",
    "\n",
    "Now create a new cell below this one, write some algebra expressions and run them."
   ]
  },
  {
   "cell_type": "markdown",
   "id": "65414cb0-1ec8-43f8-8b5d-bb5efc36730a",
   "metadata": {},
   "source": [
    "## Data types - Fundamentals\n",
    "Python is a strongly, dynamically typed language. Each value has its own type: for example, 1 is an integer, while 1.0 is a float. However, variables can change their type throughout their lifetime (differently, for example, from C or C++). Here is a simple example:"
   ]
  },
  {
   "cell_type": "code",
   "execution_count": null,
   "id": "28b24364-3f15-4ffd-bfd1-0596de0aea74",
   "metadata": {},
   "outputs": [],
   "source": [
    "x = 1\n",
    "print(\"x = 1, type of x: \", type(x))\n",
    "\n",
    "x = 1.\n",
    "print(\"x = 1., type of x: \", type(x))"
   ]
  },
  {
   "cell_type": "markdown",
   "id": "e9c6f4b8-8db4-4af3-beea-bc01a5b5b912",
   "metadata": {},
   "source": [
    "Some python operations (\"+\", \"-\", \"\\*\", \"%\", \"\\*\\*\", \"//\") will preserve the data type of their inputs, while \"/\" will always return a float (\"/\"). See the following examples:"
   ]
  },
  {
   "cell_type": "code",
   "execution_count": null,
   "id": "f5fa339d-79df-4c33-828f-bbb904e60c73",
   "metadata": {},
   "outputs": [],
   "source": [
    "x = 3 + 4\n",
    "print(\"x = 3 + 4, result: \", x, \" type of x: \", type(x))\n",
    "\n",
    "x = 3. + 4.\n",
    "print(\"x = 3. + 4., result: \", x, \" type of x: \", type(x))\n",
    "\n",
    "x = 6 / 4\n",
    "print(\"x = 6 / 4, result: \", x, \" type of x: \", type(x))\n",
    "\n",
    "x = 7. // 2\n",
    "print(\"x = 7. // 2, result: \", x, \" type of x: \", type(x))\n",
    "\n",
    "x = 4 ** 3\n",
    "print(\"x = 4 ** 3, result: \", x, \" type of x: \", type(x))\n",
    "\n",
    "x = 22.5 % 3\n",
    "print(\"x = 22.5 % 3, result: \", x, \" type of x: \", type(x))"
   ]
  },
  {
   "cell_type": "markdown",
   "id": "7f321ec5-b1f6-4b12-a9ae-f39387297391",
   "metadata": {},
   "source": [
    "Besides integers and floats, Python supports 2 other fundamental data types: **booleans** and **strings**. Booleans can just store the values \"True\" or \"False\", while strings are a more complex type which can store characters, words and sentences. Here are some examples:"
   ]
  },
  {
   "cell_type": "code",
   "execution_count": null,
   "id": "e3e84e73-21cc-4710-85bf-10a50873dfdf",
   "metadata": {},
   "outputs": [],
   "source": [
    "x = False\n",
    "print(\"x = False, type of x: \", type(x))\n",
    "\n",
    "x = 'a'\n",
    "print(\"x = 'a', type of x: \", type(x))\n",
    "\n",
    "x = 'abdc efgh'\n",
    "print(\"x = 'abcd efgh', type of x: \", type(x))"
   ]
  },
  {
   "cell_type": "markdown",
   "id": "872b9274-0bbd-4762-a44f-713cfe71f40c",
   "metadata": {},
   "source": [
    "You can conveniently change the type of a variable by applying one of the following builtin functions: <code>int()</code>, <code>float()</code>, <code>bool()</code>, <code>str()</code>. Pay attention: not all strings can be converted to integers, booleans or floats! And all integers and floats apart from 0 will be converted into the boolean \"True\"."
   ]
  },
  {
   "cell_type": "code",
   "execution_count": null,
   "id": "8569a2f9-f512-4014-b861-f98eec4962d2",
   "metadata": {},
   "outputs": [],
   "source": [
    "x = int(7.5)\n",
    "print(\"x = int(7.5), result: \", x, \" type of x: \", type(x))\n",
    "\n",
    "x = float(3)\n",
    "print(\"x = float(3), result: \", x, \" type of x: \", type(x))\n",
    "\n",
    "x = str(3.18)\n",
    "print(\"x = str(3.18), result: \", x, \" type of x: \", type(x))\n",
    "\n",
    "x = int(False)\n",
    "print(\"x = int(False), result: \", x, \" type of x: \", type(x))\n",
    "\n",
    "x = bool(234)\n",
    "print(\"x = bool(234), result: \", x, \" type of x: \", type(x))\n",
    "\n",
    "x = int(\"ab\")"
   ]
  },
  {
   "cell_type": "markdown",
   "id": "e4b66e67-9bc0-4a4b-843a-b434c09f0a1e",
   "metadata": {},
   "source": [
    "The last expression int(\"ab\") triggered what is called an **exception**. This means that the function <code>int()</code> received an \"exceptional\" input, which it cannot interpret as an integer. In such cases the default exception is \"ValueError\". In the cell below, try to convert a string to an integer without causing any exception!"
   ]
  },
  {
   "cell_type": "code",
   "execution_count": 1,
   "id": "8fe69000-e5e6-422d-aa0f-983b0d34e636",
   "metadata": {},
   "outputs": [
    {
     "name": "stdout",
     "output_type": "stream",
     "text": [
      "345\n"
     ]
    }
   ],
   "source": [
    "### Insert your code here\n",
    "x = int(\"345\")\n",
    "print(x)"
   ]
  },
  {
   "cell_type": "markdown",
   "id": "a183f714-6afb-4c88-8199-57a9bae76154",
   "metadata": {},
   "source": [
    "The string data type is very powerful. It offers many methods out of the box, which make some operations very easy. For example, you can turn all the letters into capital by calling capitalize(). The section \"String Methods\" of the python documentation (https://docs.python.org/3/library/stdtypes.html) gives a global overview of all the available operations.\n",
    "\n",
    "**Exercise 1**: in the cell below, use the appropriate string function to verify that the string \"th\" is included in the word \"Python\", but that the string \"tuna\" is not."
   ]
  },
  {
   "cell_type": "code",
   "execution_count": 2,
   "id": "31d0165a-6c25-4f99-8b2f-80d03ca9299c",
   "metadata": {},
   "outputs": [
    {
     "name": "stdout",
     "output_type": "stream",
     "text": [
      "th is in Python: True\n",
      "tuna is in Python: False\n"
     ]
    }
   ],
   "source": [
    "### Insert your code here\n",
    "s_1 = \"Python\"\n",
    "s_2 = \"th\"\n",
    "s_3 = \"tuna\"\n",
    "\n",
    "print(f\"{s_2} is in {s_1}:\",  s_2 in s_1)\n",
    "print(f\"{s_3} is in {s_1}:\", s_3 in s_1)"
   ]
  },
  {
   "cell_type": "markdown",
   "id": "9b13e032-5fe9-4f70-8e47-0f63d84375f3",
   "metadata": {},
   "source": [
    "**Exercise 2**: replace all the letters \"a\" in the string \"abracadabra\" with \"u\""
   ]
  },
  {
   "cell_type": "code",
   "execution_count": 3,
   "id": "ad284faa-3169-40ef-a019-c61ab9050211",
   "metadata": {},
   "outputs": [
    {
     "name": "stdout",
     "output_type": "stream",
     "text": [
      "ubrucudubru\n"
     ]
    }
   ],
   "source": [
    "### Insert your code here\n",
    "s = \"abracadabra\"\n",
    "s_u = s.replace(\"a\", \"u\")\n",
    "print(s_u)"
   ]
  },
  {
   "cell_type": "markdown",
   "id": "b7b6ca0b-632c-4d59-a809-a2fcbb900d72",
   "metadata": {},
   "source": [
    "**Exercise 3**: use the function \"format\" to include the result of the computation 3 + 4 in the string \"If you sum 3 and 4 you obtain {}\""
   ]
  },
  {
   "cell_type": "code",
   "execution_count": 5,
   "id": "2b1facf4-18f6-47cc-ab14-8f3bde71a2ad",
   "metadata": {},
   "outputs": [
    {
     "name": "stdout",
     "output_type": "stream",
     "text": [
      "if you sum 3 and 4 you obtain 7\n"
     ]
    }
   ],
   "source": [
    "### Insert your code here\n",
    "s = \"if you sum 3 and 4 you obtain {}\".format(3 + 4)\n",
    "print(s)"
   ]
  },
  {
   "cell_type": "markdown",
   "id": "6a1be963-2820-4f47-9ff8-35c46513025d",
   "metadata": {},
   "source": [
    "## Loops and ifs\n",
    "As most programming languages, Python supports **for** and **while** loops. For loops iterate through all the elements of a given object, until the end is reached or a **break** statement is called inside the loop body. While loops, instead, iterate until a certain condition is met. Here are 2 minimal examples:"
   ]
  },
  {
   "cell_type": "code",
   "execution_count": null,
   "id": "a8433b77-13d8-426c-8f9f-7394bbf32009",
   "metadata": {},
   "outputs": [],
   "source": [
    "i = 0\n",
    "while i < 10:\n",
    "    print(i ** 2)\n",
    "    i += 1"
   ]
  },
  {
   "cell_type": "code",
   "execution_count": null,
   "id": "f6bae2fd-74e5-41df-95c1-33b860774460",
   "metadata": {},
   "outputs": [],
   "source": [
    "for i in range(10):\n",
    "    print(i ** 2)"
   ]
  },
  {
   "cell_type": "markdown",
   "id": "1e2fcf9d-a046-4fdc-8df4-456b93076854",
   "metadata": {},
   "source": [
    "While the two code snippets produce the same output, in the first one we are manually defining the iteration count variables. In the second example, instead, we are taking advantage of the builtin function <code>range</code> which creates what is called a **generator**. Generators are objects which can be looped trhough with a for loop (or by calling another builtin function, <code>next</code>) and return one element after another. The loop asks the generator at each iteration to return the next element, and the generator executes. We will see other ways to iterate in the context of containers."
   ]
  },
  {
   "cell_type": "markdown",
   "id": "ccd6baf6-3dfb-42e1-9535-98154ad9d763",
   "metadata": {},
   "source": [
    "Python also obviously offers the possibility of assessing whether a certain condition is verified with an **if - else** statement. If multiple exclusive conditions are to different behavior, then one should use the **elif** keyword. Python supports the common binary operators <, >, ==, !=, <=, >=, or, and not. Here is a minimal example:"
   ]
  },
  {
   "cell_type": "code",
   "execution_count": null,
   "id": "e4caa706-0026-4155-aa94-f31eb113cc12",
   "metadata": {},
   "outputs": [],
   "source": [
    "state = \"Italy\"\n",
    "\n",
    "if state == \"Italy\":\n",
    "    print(\"Rome\")\n",
    "elif state == \"France\":\n",
    "    print(\"Paris\")\n",
    "elif state == \"Germany\":\n",
    "    print(\"Berlin\")\n",
    "elif state == \"Switzerland\":\n",
    "    print(\"de jure: none, de facto: Bern\")\n",
    "else:\n",
    "    print(\"I don't know the capital of the state\", state)"
   ]
  },
  {
   "cell_type": "markdown",
   "id": "307b03df-9943-44d8-93d5-32e555565ae3",
   "metadata": {},
   "source": [
    "**Exercise 4**: write some code which, given an integer, prints whether it is even or odd"
   ]
  },
  {
   "cell_type": "code",
   "execution_count": 7,
   "id": "90fd8d30-faf5-4f8d-852f-400a5a882789",
   "metadata": {},
   "outputs": [
    {
     "name": "stdout",
     "output_type": "stream",
     "text": [
      "10 is even\n"
     ]
    }
   ],
   "source": [
    "### Insert your code here\n",
    "a_int = 10\n",
    "\n",
    "if a_int % 2 == 0:\n",
    "    print(f\"{a_int} is even\")\n",
    "else:\n",
    "    print(f\"{a_int} is odd\")"
   ]
  },
  {
   "cell_type": "markdown",
   "id": "01d5cdb8-ccd1-4c33-af4e-812a9c6ad24b",
   "metadata": {},
   "source": [
    "**Exercise 5**: write some code which, given two integers, prints whether the second one is a divisor of the first one"
   ]
  },
  {
   "cell_type": "code",
   "execution_count": 13,
   "id": "8062e45f-b289-42e7-8873-145bf31c70a0",
   "metadata": {},
   "outputs": [
    {
     "name": "stdout",
     "output_type": "stream",
     "text": [
      "15 is a divisor of 45\n"
     ]
    }
   ],
   "source": [
    "### Insert your code here\n",
    "int_1 = 45\n",
    "int_2 = 15\n",
    "\n",
    "if int_1 % int_2== 0:\n",
    "    print(f\"{int_2} is a divisor of {int_1}\")\n",
    "else:\n",
    "    print(f\"{int_2} is not a divisor of {int_1}\")"
   ]
  },
  {
   "cell_type": "markdown",
   "id": "a21150c3-fbc9-49f6-930c-2bc86d51c1d1",
   "metadata": {},
   "source": [
    "**Exercise 6**: write some code which, given two strings, prints the larger one if one of them is contained it the other, otherwise it concatenates them and prints the resulting string"
   ]
  },
  {
   "cell_type": "code",
   "execution_count": 17,
   "id": "83324658-e654-4926-b06d-39c652ce843e",
   "metadata": {},
   "outputs": [
    {
     "name": "stdout",
     "output_type": "stream",
     "text": [
      "uhlala\n"
     ]
    }
   ],
   "source": [
    "### Insert your code here\n",
    "string_1 = \"la\"\n",
    "string_2 = \"uhlala\"\n",
    "\n",
    "if string_1 in string_2:\n",
    "    print(string_2)\n",
    "elif string_2 in string_1:\n",
    "    print(string_1)\n",
    "else:\n",
    "    print(string_1 + string_2)"
   ]
  },
  {
   "cell_type": "markdown",
   "id": "54eff858-d6e4-40b3-bafb-b8b4de38a2c7",
   "metadata": {},
   "source": [
    "## Data types - Containers\n",
    "The container datatypes are extremely useful in Python. Among the most important ones, there are lists, sets and dictionaries.\n",
    "\n",
    "### Lists\n",
    "\n",
    "Lists are ordered collections of values. The elements of a list can be of any type. You can retrieve an element of a list through its index (starting from 0!). You can generate a list directly defining its elements or by passing an iterable object (an object you can go thourgh with a for loop) to the function <code>list()</code>."
   ]
  },
  {
   "cell_type": "code",
   "execution_count": null,
   "id": "993bb677-2a7b-440e-ad07-ee886dd48614",
   "metadata": {},
   "outputs": [],
   "source": [
    "x = [1, 3, 5, 6]\n",
    "print(\"x = [1, 3, 5, 6] , type of x: \", type(x))\n",
    "\n",
    "x_2 = x[2]\n",
    "print(\"The element of the list in position 2 is\", x_2)\n",
    "\n",
    "x = list(range(10))\n",
    "print(\"List including the 10 digits: \", x)"
   ]
  },
  {
   "cell_type": "markdown",
   "id": "e2cf25dd-468d-4c79-a866-c911cd2e098f",
   "metadata": {},
   "source": [
    "Lists support many useful operations, such as <code>append()</code> and <code>extend()</code>:"
   ]
  },
  {
   "cell_type": "code",
   "execution_count": null,
   "id": "25a3af28-26e8-4de3-b55c-5c991eb477d7",
   "metadata": {},
   "outputs": [],
   "source": [
    "x = [1, 4, 6]\n",
    "print(\"Base list: \", x)\n",
    "\n",
    "x.append(8)\n",
    "print(\"After appending 8: \", x)\n",
    "\n",
    "x.extend([3, 5])\n",
    "print(\"And after extending it by [3, 5]: \", x)"
   ]
  },
  {
   "cell_type": "markdown",
   "id": "ed1f4711-81f8-4927-a78c-05105e665a30",
   "metadata": {},
   "source": [
    "Lists can be conveniently looped through with a for statement. Besides the standard syntax, they also support what is called the **list comprehension** syntax, which you can use, for example, to generate a new list starting from an existing one, or from a generator."
   ]
  },
  {
   "cell_type": "code",
   "execution_count": null,
   "id": "2dadef2b-7f5c-47f0-9662-7a0ffe168928",
   "metadata": {},
   "outputs": [],
   "source": [
    "x = [1, 3, 5, 6]\n",
    "\n",
    "x_squared = []\n",
    "for el in x:\n",
    "    x_squared.append(el**2)\n",
    "print(x_squared)"
   ]
  },
  {
   "cell_type": "code",
   "execution_count": null,
   "id": "cc42e0a4-ec40-465d-85ce-11f45a083d21",
   "metadata": {},
   "outputs": [],
   "source": [
    "x = [1, 3, 5, 6]\n",
    "x_squared = [el ** 2 for el in x]\n",
    "print(x_squared)"
   ]
  },
  {
   "cell_type": "markdown",
   "id": "7a18936f-5ee3-4c6a-aacd-739b6a9b715d",
   "metadata": {},
   "source": [
    "### Tuples\n",
    "Tuples, like lists, are an ordered collection of values. The main difference between lists and tuples is that, while the former are mutable objects, **tuples are immutable**. This means that it is not possible to change the value of one of the elements of a tuple, unless it is a mutable object itself. To make things clear, a tuple of integers cannot be modified. However, a tuple of lists still allows the contained lists to be modified (in this case the tuple just stores a reference to the actual list, which is still mutable). In short, tuples are useful containers when the content of the collection is not expected to change or the number of objects to increase/decrease. Removing or adding an element to a tuple, differently from what happens with lists, is an expensive operation, as it creates an entirely new tuple. Tuples can be created by direct definition or from an iterable object."
   ]
  },
  {
   "cell_type": "code",
   "execution_count": null,
   "id": "30dee7ce-1290-4fd7-8cf2-964e13cce8cc",
   "metadata": {},
   "outputs": [],
   "source": [
    "x = (1, 3, 5, 6)\n",
    "print(\"x = (1, 3, 5, 6) , type of x: \", type(x))\n",
    "\n",
    "x_2 = x[2]\n",
    "print(\"The element of the list in position 2 is\", x_2)\n",
    "\n",
    "x = tuple(range(10))\n",
    "print(\"Tuple including the 10 digits: \", x)"
   ]
  },
  {
   "cell_type": "markdown",
   "id": "8f66650e-c601-4678-9093-d429c0a9c907",
   "metadata": {},
   "source": [
    "Tuples can be conveniently looped through with a for statement. Unlike lists, tuples do not offer any \"tuple comprehension\" syntax. The keyword <code>tuple</code> is necessary to define a tuple from a generator."
   ]
  },
  {
   "cell_type": "code",
   "execution_count": null,
   "id": "dc7a0424-9e94-4999-b8b4-1562a4a890b7",
   "metadata": {},
   "outputs": [],
   "source": [
    "x = (1, 3, 5, 6)\n",
    "x_squared = tuple(el ** 2 for el in x)\n",
    "print(x_squared)"
   ]
  },
  {
   "cell_type": "markdown",
   "id": "7d24b6b8-52c7-4f59-a52b-866b44ef5453",
   "metadata": {},
   "source": [
    "### Sets\n",
    "\n",
    "Sets, similarly to their mathematical counterpart, are unordered collections of unique objects. Like lists, as set can be created by directly defining its elements of by passing an iterable object to the function set()."
   ]
  },
  {
   "cell_type": "code",
   "execution_count": null,
   "id": "97e79802-3706-44f5-a382-1fed514f01fb",
   "metadata": {},
   "outputs": [],
   "source": [
    "x = {1, 3, 5, 6, 3}\n",
    "print(\"x = {1, 3, 5, 6, 3} , type of x: \", type(x))\n",
    "print(\"Resulting set: \", x, \" NB: all elements are unique!\")\n",
    "\n",
    "x = set(range(10))\n",
    "print(\"Set including the 10 digits: \", x)"
   ]
  },
  {
   "cell_type": "markdown",
   "id": "5e1de1c9-7b71-43f1-bdac-22c53e5d9bfe",
   "metadata": {},
   "source": [
    "Sets have many useful operations, such as **add**, to add a single element, or **update**, to add all the elements in an iterable. With the methods **remove** and **discard** you can remove a single element of a set. <code>remove</code> will raise an error if the element is not in the set, while <code>discard</code> will not."
   ]
  },
  {
   "cell_type": "code",
   "execution_count": null,
   "id": "f4e0a458-db9c-439a-9aea-1cc4b1b695dd",
   "metadata": {},
   "outputs": [],
   "source": [
    "x = {1, 2, 3}\n",
    "print(\"Initial set: \", x)\n",
    "\n",
    "x.add(6)\n",
    "print(\"After adding 6: \", x)\n",
    "\n",
    "x.update(range(5, 8))\n",
    "print(\"After adding the numbers between 5 and 7: \", x)\n",
    "\n",
    "x.remove(3)\n",
    "print(\"After removing 3: \", x)"
   ]
  },
  {
   "cell_type": "markdown",
   "id": "769081ba-b4b3-41c7-83ff-8d6a60bd347a",
   "metadata": {},
   "source": [
    "As no ordering is defined, it is not possible to access a specific element of a set by index. You can instead iterate through the elements of a set with a **for loop** or with the **set comprehension** syntax. Note that the definition ordering is not preserved when printing!"
   ]
  },
  {
   "cell_type": "code",
   "execution_count": null,
   "id": "efa1562a-c478-40c4-8270-bbb03ed4dfd0",
   "metadata": {},
   "outputs": [],
   "source": [
    "x = {1, 3, 5, 6}\n",
    "\n",
    "x_squared = set()\n",
    "for el in x:\n",
    "    x_squared.add(el**2)\n",
    "print(x_squared)"
   ]
  },
  {
   "cell_type": "code",
   "execution_count": null,
   "id": "10a7651a-680a-4571-9b2d-8611844634bc",
   "metadata": {},
   "outputs": [],
   "source": [
    "x = {1, 3, 5, 6}\n",
    "x_squared = {el ** 2 for el in x}\n",
    "print(x_squared)"
   ]
  },
  {
   "cell_type": "markdown",
   "id": "ce3604db-e75d-4e32-a6a3-869e89548f1f",
   "metadata": {},
   "source": [
    "Sets are especially useful because of their support to the operations <code>difference</code>, <code>intersection</code> and <code>union</code>. Their behavior is the same as the corresponding mathematical operations:"
   ]
  },
  {
   "cell_type": "code",
   "execution_count": null,
   "id": "c17f93a7-a82e-443b-b7aa-a788547537c4",
   "metadata": {},
   "outputs": [],
   "source": [
    "a = {2, 5, -1}\n",
    "b = {4, 5, 9}\n",
    "\n",
    "print(\"A = \", a)\n",
    "print(\"B = \", b)\n",
    "print(\"A minus B: \", a.difference(b))\n",
    "print(\"A intersection B: \", a.intersection(b))\n",
    "print(\"A union B: \", a.union(b))"
   ]
  },
  {
   "cell_type": "markdown",
   "id": "8acccfec-e600-4af3-9c76-2fffa66b68e3",
   "metadata": {},
   "source": [
    "### Dictionaries\n",
    "\n",
    "Dictionaries are another useful built-in datatype. They simply represent a map between an unordered set (the **keys**) and another set (the **values**). They are the natural representation of a .json file in a python object. Dictionaries, similarly to lists and sets, can be created by direct definition or by calling the function dict() on an iterable object (this time the elements of the iterable object must have two values each - the key and the value!)"
   ]
  },
  {
   "cell_type": "code",
   "execution_count": null,
   "id": "56a9d4fe-cea4-4d24-b6e8-5e4dbbd0cb36",
   "metadata": {},
   "outputs": [],
   "source": [
    "x = {\n",
    "    \"dog\": \"woof\",\n",
    "    \"cat\": \"meow\",\n",
    "    \"pig\": \"oink\",\n",
    "    \"cow\": \"moo\"\n",
    "}\n",
    "print(\"Animal to sound:\", x)\n",
    "\n",
    "x = dict([[\"dog\", \"woof\"], [\"cat\", \"meow\"], [\"pig\", \"oink\"], [\"cow\", \"moo\"]])\n",
    "print(\"The same dict, but defined in another way: \", x)"
   ]
  },
  {
   "cell_type": "markdown",
   "id": "32290bbd-3610-4af0-97a7-b48a31b97dc4",
   "metadata": {},
   "source": [
    "Accessing the values stored in a dictionary can be done by key (through the function .get() or through square brackets):"
   ]
  },
  {
   "cell_type": "code",
   "execution_count": null,
   "id": "10751bbd-ec39-4568-b4cb-877835ee02f2",
   "metadata": {},
   "outputs": [],
   "source": [
    "sound = x[\"dog\"]\n",
    "print(\"The dog's call is\", sound)\n",
    "\n",
    "sound = x.get(\"cow\")\n",
    "print(\"The cow's call is\", sound)"
   ]
  },
  {
   "cell_type": "markdown",
   "id": "5a5a7c7f-7136-4156-816e-89344548e032",
   "metadata": {},
   "source": [
    "To add an element to a dictionary or to change the value associated to a certain key you can either use the square brackets or the function update()"
   ]
  },
  {
   "cell_type": "code",
   "execution_count": null,
   "id": "c9c0031d-ddff-4e26-af8b-0114f5f882e9",
   "metadata": {},
   "outputs": [],
   "source": [
    "x[\"donkey\"] = \"hee-haw\"\n",
    "x.update({\"owl\": \"hoot\"})\n",
    "print(x)"
   ]
  },
  {
   "cell_type": "markdown",
   "id": "a3f48027-dc6e-4bd6-81d8-a9a79b9eb0a7",
   "metadata": {},
   "source": [
    "You can access the keys of your dictionary with the function <code>keys()</code> which returns a dict_keys object. For simplicity, you can convert this object in a list using the function <code>list()</code>"
   ]
  },
  {
   "cell_type": "code",
   "execution_count": null,
   "id": "7e45bf0b-3b69-4d42-8688-b05e9035795a",
   "metadata": {},
   "outputs": [],
   "source": [
    "keyset = list(x.keys())\n",
    "print(\"The keys in the dictionary are: \", keyset)"
   ]
  },
  {
   "cell_type": "markdown",
   "id": "7e8457f2-4ea6-4cc5-8a41-ab5144c1a33c",
   "metadata": {},
   "source": [
    "And of course you can iterate through a dictionary. Calling a for loop through a dictionary actually iterates through its keyset. If you want to iterate through the dictionary's keys and values simultaneously, you can use the handy method <code>items()</code>"
   ]
  },
  {
   "cell_type": "code",
   "execution_count": null,
   "id": "46ad3bb5-0696-4559-9b3e-306c75a99dea",
   "metadata": {},
   "outputs": [],
   "source": [
    "for key in x:\n",
    "    print(\"The iteration variable is: \", key)\n",
    "    print(\"And I can use it to access the value: \", x[key])\n",
    "\n",
    "print('')\n",
    "print(\"But I can also access the key and the value together\")\n",
    "for key, value in x.items():\n",
    "    print(\"key: {}, value: {}\".format(key,value))"
   ]
  },
  {
   "cell_type": "markdown",
   "id": "2b1bc305-b813-4681-8f8d-e66804497564",
   "metadata": {},
   "source": [
    "Important! Dictionaries are not ordered collections, so it is not possible to get their elements by index."
   ]
  },
  {
   "cell_type": "markdown",
   "id": "3f9e0e37-a1ef-4934-8b0e-399b9bed4572",
   "metadata": {},
   "source": [
    "**Exercise 7**. Write some code which, given an input integer N, computes all the prime numbers up to N and stores them in a list."
   ]
  },
  {
   "cell_type": "code",
   "execution_count": 27,
   "id": "387bf032-652d-450d-8ac3-fce0918e7f5f",
   "metadata": {},
   "outputs": [
    {
     "name": "stdout",
     "output_type": "stream",
     "text": [
      "[1, 2, 3, 5, 7, 11, 13, 17, 19, 23, 29, 31, 37, 41, 43, 47, 53, 59, 61, 67, 71, 73, 79, 83, 89, 97, 101, 103, 107, 109, 113, 127, 131, 137, 139, 149, 151, 157, 163, 167, 173, 179, 181, 191, 193, 197, 199, 211, 223, 227, 229, 233, 239, 241, 251, 257, 263, 269, 271, 277, 281, 283, 293, 307, 311, 313, 317, 331, 337, 347, 349, 353, 359, 367, 373, 379, 383, 389, 397, 401, 409, 419, 421, 431, 433, 439, 443, 449, 457, 461, 463, 467, 479, 487, 491, 499, 503, 509, 521, 523, 541, 547, 557, 563, 569, 571, 577, 587, 593, 599, 601, 607, 613, 617, 619, 631, 641, 643, 647, 653, 659, 661, 673, 677, 683, 691, 701, 709, 719, 727, 733, 739, 743, 751, 757, 761, 769, 773, 787, 797, 809, 811, 821, 823, 827, 829, 839, 853, 857, 859, 863, 877, 881, 883, 887, 907, 911, 919, 929, 937, 941, 947, 953, 967, 971, 977, 983, 991, 997]\n"
     ]
    }
   ],
   "source": [
    "### Insert your code here\n",
    "n = 1000\n",
    "survivors = list(range(2, n + 1))\n",
    "primes = [1]\n",
    "\n",
    "while survivors:\n",
    "    primes.append(survivors[0])\n",
    "    survivors = [s for s in survivors if s % survivors[0]]\n",
    "print(primes)   "
   ]
  },
  {
   "cell_type": "markdown",
   "id": "666b799a",
   "metadata": {},
   "source": [
    "**Exercise 8 (BONUS)**. In this bonus exercise you should write an algorithm that finds a random number in the fastest possible way. You can use the <code>random</code> package to generate a random number from the interval [1,100] as written below. After guessing a number, your program should tell you if the guessed number is the correct one, or if it is smaller or greater than the target one. Then, based on this information, you guess a new number and perform the previous steps in an iterative way. Count the number of steps until you found the number."
   ]
  },
  {
   "cell_type": "code",
   "execution_count": 123,
   "id": "dbf941e0",
   "metadata": {},
   "outputs": [
    {
     "name": "stdout",
     "output_type": "stream",
     "text": [
      "Target:  63\n",
      "Number of iterations:  5 guess:  63\n"
     ]
    }
   ],
   "source": [
    "import random\n",
    "target = random.randint(1, 100)\n",
    "### Insert your code here\n",
    "print(\"Target: \", target)\n",
    "\n",
    "max_it = 100\n",
    "\n",
    "guess = 50\n",
    "lim_right = 100\n",
    "lim_left = 1\n",
    "i = 0\n",
    "while guess != target and i < max_it:\n",
    "    if target > guess:\n",
    "        lim_left = guess\n",
    "        guess = int((lim_right + guess) / 2)\n",
    "    else:\n",
    "        lim_right = guess\n",
    "        guess = int((lim_left + guess) / 2)\n",
    "    i += 1\n",
    "print(\"Number of iterations: \", i, \"guess: \", guess)"
   ]
  }
 ],
 "metadata": {
  "kernelspec": {
   "display_name": "Python 3 (ipykernel)",
   "language": "python",
   "name": "python3"
  },
  "language_info": {
   "codemirror_mode": {
    "name": "ipython",
    "version": 3
   },
   "file_extension": ".py",
   "mimetype": "text/x-python",
   "name": "python",
   "nbconvert_exporter": "python",
   "pygments_lexer": "ipython3",
   "version": "3.9.6"
  }
 },
 "nbformat": 4,
 "nbformat_minor": 5
}
