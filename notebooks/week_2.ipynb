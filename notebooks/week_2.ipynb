{
 "cells": [
  {
   "cell_type": "markdown",
   "id": "2ee206db-371b-4826-ac54-61fd47b23571",
   "metadata": {},
   "source": [
    "### BIO-210: Projects in Informatics for SV\n",
    "# Python Introduction 2 - Numpy and Scipy"
   ]
  },
  {
   "cell_type": "markdown",
   "id": "24f00818-5001-447a-ac01-2df985e9a3d5",
   "metadata": {},
   "source": [
    "**Numpy** is a widely used Python library for scientific computing. Its long list of functionalities and great performance have made it a fundamental tool for virtually any scientist using python. It is commonly imported with the nickname **np**"
   ]
  },
  {
   "cell_type": "code",
   "execution_count": null,
   "id": "57ce8106-38ad-447b-ac20-9bd728309cad",
   "metadata": {},
   "outputs": [],
   "source": [
    "import numpy as np"
   ]
  },
  {
   "cell_type": "markdown",
   "id": "202dca16-47eb-4fd8-b5cf-39eeecafe3f4",
   "metadata": {},
   "source": [
    "### Numpy arrays\n",
    "The basic data type of numpy is the multidimensional array. The main way to create one is starting from a (nested) collection (e.g. a list). The array will have as many dimensions as the depth of the list (a list of lists has depth 2, a list of lists of lists 3, etc.)."
   ]
  },
  {
   "cell_type": "code",
   "execution_count": null,
   "id": "40957d82-64fb-4d2b-b7d4-58c8994031b7",
   "metadata": {},
   "outputs": [],
   "source": [
    "a = np.array([3, 4, 1])\n",
    "b = np.array([[1, 2], [4, -1], [3, 3]])\n",
    "print(\"a =\", a, \", shape of a: \", a.shape)\n",
    "print(\"b =\\n\", b, \", shape of b: \", b.shape)"
   ]
  },
  {
   "cell_type": "markdown",
   "id": "0dbaf581-df7b-4ee4-9020-ee55f49284f2",
   "metadata": {},
   "source": [
    "In the previous examples numpy can automatically infer the dimensions of the input data and organize them accordingly (single and bi dimensional arrays). Other common ways of initializing arrays are with constant or random values. Numpy offers the handy functions <code>zeros</code>, <code>ones</code> and the module <code>random</code>. For example, <code>random.randn</code> samples the elements of the matrix from a standard normal distribution."
   ]
  },
  {
   "cell_type": "code",
   "execution_count": null,
   "id": "a755b664-bf87-4679-baf0-3d5c78310109",
   "metadata": {},
   "outputs": [],
   "source": [
    "a = np.ones((3, 4))\n",
    "print(\"ones((3, 4)) =\")\n",
    "print(a)\n",
    "\n",
    "b = np.zeros((2, 5))\n",
    "print(\"\\nzeros((2, 5)) =\")\n",
    "print(b)\n",
    "\n",
    "c = np.random.randn(3, 3)\n",
    "print(\"\\nrandom.randn(3, 3) =\")\n",
    "print(c)"
   ]
  },
  {
   "cell_type": "markdown",
   "id": "5499e810-e87f-4395-acb5-0dbcb1abaef7",
   "metadata": {},
   "source": [
    "Other useful array creation functions include <code>arange</code> and <code>linspace</code>. The first one behaves as <code>range</code>, but returning an array. The second generates an array of a given number of equally spaced values between a minimum and a maximum."
   ]
  },
  {
   "cell_type": "code",
   "execution_count": null,
   "id": "fe71289b-22d1-4f9d-bf7a-7f60c832fce7",
   "metadata": {},
   "outputs": [],
   "source": [
    "a = np.arange(3, 10)\n",
    "print(\"arange(3, 10) =\", a)\n",
    "\n",
    "b = np.linspace(3, 4, 11)\n",
    "print(\"linspace(3, 4, 11) =\", b)"
   ]
  },
  {
   "cell_type": "markdown",
   "id": "05255a12-9201-4dc0-9d09-a96a59ffee7f",
   "metadata": {},
   "source": [
    "### Operations and functions\n",
    "\n",
    "Multidimensional arrays obviously support all the basic mathematical operations. The default operators perform element-wise additions, subtractions, multiplications and divisions."
   ]
  },
  {
   "cell_type": "code",
   "execution_count": null,
   "id": "73d87551-7c12-45f8-a2cf-34af9bf183fb",
   "metadata": {},
   "outputs": [],
   "source": [
    "a = np.array([1, 3, -2])\n",
    "b = np.array([4, -1, 2])\n",
    "s = a + b\n",
    "d = a - b\n",
    "p = a * b\n",
    "q = a / b\n",
    "\n",
    "print(\"a =\", a, \"\\tb =\", b)\n",
    "print(\"a + b = \", s)\n",
    "print(\"a - b = \", d)\n",
    "print(\"a * b = \", p)\n",
    "print(\"a / b = \", q)"
   ]
  },
  {
   "cell_type": "markdown",
   "id": "78d817d5-3434-4086-871a-4a32e3fba6ec",
   "metadata": {},
   "source": [
    "Also many common analytic functions are implemented in Numpy, e.g, <code>log</code>, <code>exp</code>, <code>sin</code>, <code>sqrt</code> and many others. They are also applied element-wise to multidimensional arrays.\n",
    "\n",
    "**Exercise 1.** Print the sine of 100 equally spaced values in the interval [-5, 5]"
   ]
  },
  {
   "cell_type": "code",
   "execution_count": null,
   "id": "235481c9-6901-4812-bead-db70603ac3ba",
   "metadata": {},
   "outputs": [],
   "source": [
    "# Your code here"
   ]
  },
  {
   "cell_type": "markdown",
   "id": "68f35f01-02bc-41aa-b882-dc002a21cc79",
   "metadata": {},
   "source": [
    "**Exercise 2.** Compute the square root of the integers between 29 and 46 using the appropriate Numpy functions"
   ]
  },
  {
   "cell_type": "code",
   "execution_count": null,
   "id": "a4a06c58-4b68-4e28-b2dd-60e59686584a",
   "metadata": {},
   "outputs": [],
   "source": [
    "# Your code here"
   ]
  },
  {
   "cell_type": "markdown",
   "id": "958e0668-c06e-4f5d-86bc-a9cccf83b334",
   "metadata": {},
   "source": [
    "In Numpy we also find functions for vector and matrix operations. For example, the function <code>inner</code> implements the scalar product between two arrays. The function <code>dot</code> implements the matrix multiplication operation in the mathematical sense (scalar products between all the rows of the first matrix and the columns of the second), which can also be used to compute the matrix-vector product. These implementations of linear algebra operations are highly optimized and are much faster than an implementation with for loops one could write in Python. It is therefore important to use numpy functions as much as possible when working with arrays to get the maximum efficiency."
   ]
  },
  {
   "cell_type": "markdown",
   "id": "950fb6b7-6e6c-4ba9-9a89-e282cc6d913a",
   "metadata": {},
   "source": [
    "**Exercise 3.** Define two random matrices of size (3x4) and (4x2) and compute the product matrix. Is the resulting shape what you expected?"
   ]
  },
  {
   "cell_type": "code",
   "execution_count": null,
   "id": "44fe1e5c-e20d-4c21-b9b5-4fbb53d94c1a",
   "metadata": {},
   "outputs": [],
   "source": [
    "# Your code here"
   ]
  },
  {
   "cell_type": "markdown",
   "id": "5a9e1f47-4dc7-499a-ae77-cff3420610e7",
   "metadata": {},
   "source": [
    "### Accessing the array's elements\n",
    "\n",
    "Numpy arrays are suitable for the storage of large amount of data. It is therefore convenient to know some smart way to access their elements. As vectors are an ordered structure, elements can be accessed by their index. "
   ]
  },
  {
   "cell_type": "code",
   "execution_count": null,
   "id": "b726691b-8a2a-4eb4-8a91-aee1d46d7676",
   "metadata": {},
   "outputs": [],
   "source": [
    "a = np.array([[1, 2], [4, -1], [3, 3]])\n",
    "el = a[1, 0]\n",
    "print(a)\n",
    "print(\"\\nThe element in position (1, 0) is \", el)"
   ]
  },
  {
   "cell_type": "markdown",
   "id": "0867c155-d025-482e-887f-9f3c13fe84b4",
   "metadata": {},
   "source": [
    "If you need to access larger portions of **contiguous** or regularly spaced elements of a numpy array, then you can use the **slicing** operations. The simplest form of slicing just works like the access by index, but replacing the index in one or more dimensions with 2 indices, separated by \":\". For instance, the syntax x[2:4, 3:9] returns the values with index 2 to 4 (4 excluded) along the first axis, and from 3 to 9 (9 excluded) along the second axis. You can optionally define a **skip value**: the syntax x[2:9:2] will select only every second element between 2 and 9. It is often useful to leave one or more values empty. x[:4] means \"from the start up to 4\", while x[3:] means \"from 3 up to the end\". x[:, 3] would return the full column 3. Tip: indices also work backwards, meaning that the last element can also be retrieved with the index -1, the second last with -2, etc."
   ]
  },
  {
   "cell_type": "markdown",
   "id": "dbe6a952-13b2-41af-a370-9151d18df8eb",
   "metadata": {},
   "source": [
    "**Exercise 4.** Define a random array (values from the normal distribution) of shape (3, 4, 4). Slice the 2x2x2 cube at the beginning of each axis and print it."
   ]
  },
  {
   "cell_type": "code",
   "execution_count": null,
   "id": "b2b9b88b-c298-4f0e-94ea-560710863112",
   "metadata": {},
   "outputs": [],
   "source": [
    "# Your code here"
   ]
  },
  {
   "cell_type": "markdown",
   "id": "55a2f81f-77ec-480f-bbbc-17fa1e38c132",
   "metadata": {},
   "source": [
    "**Exercise 5.** Define a matrix of size (8x8). Undersample it into a (4x4) matrix by selecting every second element both along the rows and the columns."
   ]
  },
  {
   "cell_type": "code",
   "execution_count": null,
   "id": "f5736080-7ef8-4ad0-badf-d4938c5fab1e",
   "metadata": {},
   "outputs": [],
   "source": [
    "# Your code here"
   ]
  },
  {
   "cell_type": "markdown",
   "id": "334d76b2-6b30-480f-bf5f-1c092ab729fc",
   "metadata": {},
   "source": [
    "**Exercise 6.** The slicing operation returns a reference to the sliced part of the array. This means that changing the value of the slice also changes the value of the original array. Define a (5x5) random matrix, slice the third row and assign the value 1 to its first 3 elements. Print the original matrix."
   ]
  },
  {
   "cell_type": "code",
   "execution_count": null,
   "id": "e19679ac-e593-42f6-bd9d-901d20cb9646",
   "metadata": {},
   "outputs": [],
   "source": [
    "# Your code here"
   ]
  },
  {
   "cell_type": "markdown",
   "id": "414bd443-c4ec-405d-85a0-ddca4f275490",
   "metadata": {},
   "source": [
    "### Array manipulation"
   ]
  },
  {
   "cell_type": "markdown",
   "id": "7aff03fa-0d50-48a0-a7bc-9b952a00b8ea",
   "metadata": {},
   "source": [
    "Arrays often require to be manipulated to be in the correct format for the computation. For example, a dataset of pictures might be stored as a flat vector, but we might need them in the form of a rectangle. Numpy offers a long list of functions to handle arrays. Here we are going to focus on the functions <code>reshape</code>, <code>transpose</code> and <code>concatenate</code>\n",
    "\n",
    "<code>reshape</code> is used to rearrange the shape of a vector without changing the values of its elements. It receives the list of sizes of the resulting array in each dimension and reorders the elements accordingly. It is possible to leave one of the dimensions blank (by passing a -1), as it can be inferred by the sizes of the other dimensions and the number of elements."
   ]
  },
  {
   "cell_type": "code",
   "execution_count": null,
   "id": "0e5cd991-679f-4a39-bea6-a6fece465e46",
   "metadata": {},
   "outputs": [],
   "source": [
    "x = np.random.randn(100)\n",
    "x_square = np.reshape(x, [10, 10])\n",
    "print(\"The new shape is \", x_square.shape)"
   ]
  },
  {
   "cell_type": "markdown",
   "id": "dcd8917e-76cf-4ea7-bd3e-b8009c943b52",
   "metadata": {},
   "source": [
    "**Exercise 7.** Define a random matrix of size (100x100) and reshape it into an array of size (100x10x10). Try not specifying the last dimension and verify that it still has the expected shape"
   ]
  },
  {
   "cell_type": "code",
   "execution_count": null,
   "id": "f9d98b1e-e830-419c-adb1-ab14daf58f78",
   "metadata": {},
   "outputs": [],
   "source": [
    "# Your code here"
   ]
  },
  {
   "cell_type": "markdown",
   "id": "fabd2ab5-acbb-48b0-ac5a-463f2e3b7e0a",
   "metadata": {},
   "source": [
    "<code>transpose</code> is simply used to swap the indices of the elements of a matrix.\n",
    "\n",
    "**Exercise 8.** Create a random (3x5) matrix m and compute its transposed m_t. Verify that both the products between m_t and m and m and m_t result in a symmetric matrix"
   ]
  },
  {
   "cell_type": "code",
   "execution_count": null,
   "id": "08b53412-b766-48c9-a06e-77c805f07f2b",
   "metadata": {},
   "outputs": [],
   "source": [
    "# Your code here"
   ]
  },
  {
   "cell_type": "markdown",
   "id": "15afd802-d575-4c45-a821-f7d17593b82c",
   "metadata": {},
   "source": [
    "<code>concatenate</code> is the function to merge multiple arrays into a single one. Through the keyword **axis** one can specify along which dimension to attach the array to the other.\n",
    "\n",
    "**Exercise 9.** Define two random matrices of sizes (2x5). Use the function <code>concatenate</code> to merge them into a new  matrix. First try passing axis = 0, then axis = 1. How does the shape of the result change?"
   ]
  },
  {
   "cell_type": "code",
   "execution_count": null,
   "id": "cbafadfa-239b-4300-b2d9-64a572896133",
   "metadata": {},
   "outputs": [],
   "source": [
    "# Your code here"
   ]
  },
  {
   "cell_type": "markdown",
   "id": "6d61570d-dc84-46d6-87da-a62650f920c0",
   "metadata": {},
   "source": [
    "### Broadcasting\n",
    "\n",
    "Broadcasting is a useful tool to write compact and efficient code with Numpy. The idea is that Numpy will sometimes accept vectors and matrices of different shapes when executing operations such as a sum or an element-wise product. For example:"
   ]
  },
  {
   "cell_type": "code",
   "execution_count": null,
   "id": "cee1fa50-213d-4696-931c-05fed6192b01",
   "metadata": {},
   "outputs": [],
   "source": [
    "x = np.array([[2, 4], [3, 1], [0, -1]])\n",
    "y = np.ones((3, 1))\n",
    "result = x + y\n",
    "print(result)"
   ]
  },
  {
   "cell_type": "markdown",
   "id": "f2e52983-f4de-41e4-9f0e-8cfe27dedd1c",
   "metadata": {},
   "source": [
    "In the previous code we have summed a (3x2) matrix and a (3x1) vector. Numpy succeeds in the task because it interprets the operation as \"sum vector y to all the columns of x\". In fact, broadcasting follows these 2 rules:\n",
    "\n",
    "1 - If the number of dimensions between the two matrices is different, prepend dummy dimensions to the array with fewer dimensions until the numbers match.\n",
    "\n",
    "2 - In all the dimensions in which one array has size 1 and the other n > 1, the array with size 1 behaves like its values are repeated n times.\n",
    "\n",
    "When applicable, broadcasting is an extremely useful tool due to its high efficiency."
   ]
  },
  {
   "cell_type": "markdown",
   "id": "1db4c8ac-7470-4b95-bd2e-7ab903910cb9",
   "metadata": {},
   "source": [
    "**Exercise 10.** Create a (10x10) matrix in which all columns contain the numbers from 0 to 9, plus some random noise (the random noise is different for each column). Take advantage of broadcasting."
   ]
  },
  {
   "cell_type": "code",
   "execution_count": null,
   "id": "ca0a1fbf-1fa5-4d83-a458-9890f190a105",
   "metadata": {},
   "outputs": [],
   "source": [
    "# Your code here"
   ]
  },
  {
   "cell_type": "markdown",
   "id": "6bcaee41-a7fe-4fc5-b30b-a190e3844c7d",
   "metadata": {},
   "source": [
    "### Linear Algebra\n",
    "\n",
    "As a library for scientific computing, Numpy offers some linear algebra tools, such as matrix factorization algorithms (QR, SVD, ...), computation of the eigenvalues, various matrix norms and algorithms to solve linear systems. However, for a more complete range of algorithms, you could be interested in the library **scipy**, whose package <code>scipy.linalg</code> is more complete than the equivalent <code>numpy.linalg</code>. You will now use scipy to compute the singular value decomposition, an important matrix factorization technique."
   ]
  },
  {
   "cell_type": "markdown",
   "id": "02d45d82-2760-42b4-8a50-d2416614cba3",
   "metadata": {},
   "source": [
    "**Exercise 11.** Use the function <code>scipy.linalg.svd</code> to compute the singluar value decomposition of a random 10x10 matrix M. Store the result in 3 variables named U, S and V. Verify that U and V are unitary matrices (for real values: the transposed matrix is equal to the inverse - use the command <code>scipy.linalg.inv</code>) and that the decomposition is exact: M = USV (hint: S is returned as a vector, but it represents a diagonal matrix!). To compare matrices of floats and check that they differ just by some rounding error, you can use the function <code>numpy.allclose</code>."
   ]
  },
  {
   "cell_type": "code",
   "execution_count": null,
   "id": "9439da32-a5a1-4c35-9a02-9f7bf970b0f3",
   "metadata": {},
   "outputs": [],
   "source": [
    "# Your code here\n",
    "import scipy.linalg\n"
   ]
  },
  {
   "cell_type": "markdown",
   "id": "9f4135d0-60d4-4f73-84d0-c5ceb0bea600",
   "metadata": {},
   "source": [
    "**Exercise 12 (BONUS)**. Implement k-means clustering to group features realive to potential breast cancer masses. K-means is a clustering algorithm, probably the simplest one. Clustering algorithms are used to group data that are similar to each other. In this case we would like to create 2 clusters. If the features are meaningful, each group should include a majoiry of positive (breast cancer) or negative (non breast cancer) outcomes. Proceed as follows:\n",
    "\n",
    "1 - Run the cell below, which downloads the dataset and saves the breast cancer features and target labels (cancer / non-cancer)\n",
    "\n",
    "2 - Normalize the features by subtracting the mean from each column and dividing it by its standard deviation. You can use the relevant <code>numpy</code> functions to do so\n",
    "\n",
    "3 - Define two random centroids of the clusters, by creating 2 vectors of size equal to the number of features, containing random values sampled from a standard normal distribution\n",
    "\n",
    "Now define the iteration loop, which should run until the centroid do not change their value for two consecutive iterations (or the cluster assignment does not change for two consecutive iterations). In each step:\n",
    "\n",
    "4 - Assign each element of the dataset to the closest centroid. Measure the distance between each centroid and an element with the standard euclidean distance. If the element is closer to the centroid 0, then it belongs to the cluster 0. Otherwise it belongs to the cluster 1. Run this assignment for all the elements.\n",
    "\n",
    "5 - Update the centroids. They are the average of all the elements assigned to their cluster. Hint: if <code>features</code> is your features matrix and <code>clusters</code> the vector of the cluster assignment, you can get the features of the elements in a certain cluster with the code <code>features[clusters == cluster_id]</code>\n",
    "\n",
    "Verify that the algorithm converges in a finite number of steps. Once the clustering is completed, check the distribution of target labels associated to the elements of each cluster (Hint: for both clusters, count the elements with label 0 or 1).  If the distribution is substantially different between the two clusters, it means that this simple algorithm has learnt how to approximately distinguish a cancer mass from a non-cancer one!"
   ]
  },
  {
   "cell_type": "code",
   "execution_count": null,
   "id": "07a512fd-ae0c-478c-868d-baa21b58cd88",
   "metadata": {},
   "outputs": [],
   "source": [
    "from sklearn.datasets import load_breast_cancer\n",
    "\n",
    "data = load_breast_cancer()\n",
    "\n",
    "features = data.data\n",
    "target = data.target\n",
    "print(\"Shape of the feature matrix: \", features.shape)\n",
    "print(\"Shape of the label vector: \", target.shape)"
   ]
  }
 ],
 "metadata": {
  "kernelspec": {
   "display_name": "Python 3 (ipykernel)",
   "language": "python",
   "name": "python3"
  },
  "language_info": {
   "codemirror_mode": {
    "name": "ipython",
    "version": 3
   },
   "file_extension": ".py",
   "mimetype": "text/x-python",
   "name": "python",
   "nbconvert_exporter": "python",
   "pygments_lexer": "ipython3",
   "version": "3.9.6"
  }
 },
 "nbformat": 4,
 "nbformat_minor": 5
}
