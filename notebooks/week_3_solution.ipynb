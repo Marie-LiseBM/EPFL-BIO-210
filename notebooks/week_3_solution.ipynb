{
 "cells": [
  {
   "cell_type": "markdown",
   "id": "8b493c9e",
   "metadata": {},
   "source": [
    "### BIO-210: Projects in Informatics for SV\n",
    "# Python Introduction 3 - Scikit-learn"
   ]
  },
  {
   "cell_type": "markdown",
   "id": "52851b64",
   "metadata": {},
   "source": [
    "Scikit-learn is a python library offering a set of tools for data mining, data analysis and machine learning (https://scikit-learn.org/stable/). Today you will learn how to load a dataset and how to perform some elementary exploration and visualization. You will then apply two important data analysis techniques: a clustering algorithm (k-means) and linear regression. Enjoy!"
   ]
  },
  {
   "cell_type": "code",
   "execution_count": 22,
   "id": "de26ed42",
   "metadata": {},
   "outputs": [],
   "source": [
    "import sklearn as sk\n",
    "import sklearn.datasets as sk_data\n",
    "import sklearn.metrics as metrics\n",
    "import sklearn.model_selection as cv\n",
    "import numpy as np\n",
    "import scipy as sp\n",
    "\n",
    "# We will use a custom library with visualizations developed for this exercise\n",
    "import lib.viz as viz"
   ]
  },
  {
   "cell_type": "markdown",
   "id": "0c9b1a51",
   "metadata": {},
   "source": [
    "Today we will make plotting easy for you, as the lesson about visualization will come later in this course. For the moment, just call the function <code>viz.plot()</code> and give it the following arguments: x, y, color, plot_type ('line' or 'scatter'). Here follows a minimal example:"
   ]
  },
  {
   "cell_type": "code",
   "execution_count": 23,
   "id": "2541b19b",
   "metadata": {},
   "outputs": [
    {
     "data": {
      "image/png": "[encoded data removed]",
      "text/plain": [
       "<Figure size 432x288 with 1 Axes>"
      ]
     },
     "metadata": {
      "needs_background": "light"
     },
     "output_type": "display_data"
    }
   ],
   "source": [
    "x = np.linspace(0, 1, 100)\n",
    "y = np.sqrt(x)\n",
    "viz.plot(x, y, 'green', 'line')"
   ]
  },
  {
   "cell_type": "markdown",
   "id": "253aabf2",
   "metadata": {},
   "source": [
    "<code>sklearn.datasets</code> is the scikit-learn module to handle sets of data. It includes some toy dataset to experiment with your algorithms, but it also allows you to load real-world datasets or to generate data with specific structures, as in the following example:"
   ]
  },
  {
   "cell_type": "code",
   "execution_count": 24,
   "id": "389f3f90",
   "metadata": {},
   "outputs": [
    {
     "name": "stdout",
     "output_type": "stream",
     "text": [
      "(100, 2) (100,) <class 'numpy.ndarray'>\n"
     ]
    },
    {
     "data": {
      "image/png": "[encoded data removed]",
      "text/plain": [
       "<Figure size 432x288 with 1 Axes>"
      ]
     },
     "metadata": {
      "needs_background": "light"
     },
     "output_type": "display_data"
    }
   ],
   "source": [
    "X, y = sk_data.make_blobs(n_samples=100, centers=3, n_features=2, center_box=(-30.0, 30.0), random_state=0)\n",
    "print(X.shape, y.shape, type(y))\n",
    "\n",
    "viz.plot(x = X[y==1,0], y = X[y==1,1], color='blue', plot_type='scatter')\n",
    "viz.plot(x = X[y==0,0], y = X[y==0,1], color='green', plot_type='scatter')\n",
    "viz.plot(x = X[y==2,0], y = X[y==2,1], color='red', plot_type='scatter')"
   ]
  },
  {
   "cell_type": "markdown",
   "id": "df523e9a",
   "metadata": {},
   "source": [
    "## Clustering (k-means)"
   ]
  },
  {
   "cell_type": "markdown",
   "id": "c5ebdd75",
   "metadata": {},
   "source": [
    "The k-means algorithm clusters data by trying to separate samples in k groups of equal variance, minimizing a criterion known as the inertia or within-cluster sum-of-squares. This algorithm requires the number of clusters to be specified. It scales well to large number of samples and has been used across a large range of application areas in many different fields.\n",
    "\n",
    "You remember the bonus exercise from last week?\n",
    "Now we want to first implement k-means with numpy and then have a look on how to do it with scikit-learn!"
   ]
  },
  {
   "cell_type": "markdown",
   "id": "20383d1c",
   "metadata": {},
   "source": [
    "**Exercise 1**. Implement k-means clustering to group features related to potential breast cancer masses. Clustering algorithms are used to group data that are similar to each other. In this case we would like to create 2 clusters. If the features are meaningful, each group should include a majority of positive (breast cancer) or negative (non breast cancer) outcomes. Proceed as follows:\n",
    "\n",
    "1 - Run the cell below, which downloads the dataset and saves the breast cancer features and target labels (cancer / non-cancer)"
   ]
  },
  {
   "cell_type": "code",
   "execution_count": 25,
   "id": "617707ff",
   "metadata": {},
   "outputs": [
    {
     "name": "stdout",
     "output_type": "stream",
     "text": [
      "Shape of the feature matrix:  (569, 30)\n",
      "Shape of the label vector:  (569,)\n"
     ]
    }
   ],
   "source": [
    "from sklearn.datasets import load_breast_cancer\n",
    "\n",
    "data = load_breast_cancer()\n",
    "\n",
    "features = data.data\n",
    "target = data.target\n",
    "print(\"Shape of the feature matrix: \", features.shape)\n",
    "print(\"Shape of the label vector: \", target.shape)"
   ]
  },
  {
   "cell_type": "markdown",
   "id": "4406e9ac",
   "metadata": {},
   "source": [
    "2 - Normalize the features by subtracting the mean from each column and dividing it by its standard deviation. Normalizing the features is a standard way to make the clustering robust to the scale of the features. You can use the relevant <code>numpy</code> functions to do so:"
   ]
  },
  {
   "cell_type": "code",
   "execution_count": 26,
   "id": "0234a262",
   "metadata": {},
   "outputs": [
    {
     "name": "stdout",
     "output_type": "stream",
     "text": [
      "Shape of the normalized feature matrix:  (569, 30)\n"
     ]
    }
   ],
   "source": [
    "# Your code here\n",
    "m = np.mean(features, axis=0)\n",
    "s = np.std(features, axis=0)\n",
    "norm_features = (features - m) / s\n",
    "print(\"Shape of the normalized feature matrix: \", norm_features.shape)"
   ]
  },
  {
   "cell_type": "markdown",
   "id": "7de07d3a",
   "metadata": {},
   "source": [
    "3 - Each cluster is characterized by a centroid, which is its center of mass. The k-means algorithm will start from two random centroids and iteratively update their values. Define the initial values of the centroids by creating 2 vectors of size equal to the number of features, containing random values sampled from a standard normal distribution."
   ]
  },
  {
   "cell_type": "code",
   "execution_count": 27,
   "id": "7446726b",
   "metadata": {},
   "outputs": [],
   "source": [
    "# Your code here\n",
    "\n",
    "# Init the centroids\n",
    "c_0 = np.random.randn(features.shape[1])\n",
    "c_1 = np.random.randn(features.shape[1])\n",
    "\n",
    "# Init the cluster vector - the old one is to check convergence\n",
    "clusters_old = np.zeros(features.shape[0])\n",
    "clusters = np.ones(features.shape[0])"
   ]
  },
  {
   "cell_type": "markdown",
   "id": "bbb67340",
   "metadata": {},
   "source": [
    "Now define the iteration loop, which should run until the centroids do not change their value for two consecutive iterations (or the cluster assignment does not change for two consecutive iterations). In each step:\n",
    "\n",
    "4 - Assign each element of the dataset to the closest centroid. Measure the distance between each centroid and an element with the standard euclidean distance. If the element is closer to the centroid 0, then it belongs to the cluster 0. Otherwise it belongs to the cluster 1. Run this assignment for all the elements.\n",
    "\n",
    "5 - Update the centroids. They are the average of all the elements assigned to their cluster. Hint: if <code>features</code> is your features matrix and <code>clusters</code> the vector of the cluster assignment, you can get the features of the elements in a certain cluster with the code <code>features[clusters == cluster_id]</code>\n",
    "\n",
    "Verify that the algorithm converges in a finite number of steps. Once the clustering is completed, check the distribution of target labels associated to the elements of each cluster (Hint: for both clusters, count the elements with label 0 or 1).  If the distribution is substantially different between the two clusters, it means that this simple algorithm has learnt how to approximately distinguish a cancer mass from a non-cancer one!"
   ]
  },
  {
   "cell_type": "code",
   "execution_count": 28,
   "id": "b80b90ee",
   "metadata": {},
   "outputs": [
    {
     "name": "stdout",
     "output_type": "stream",
     "text": [
      "Iteration  0\n",
      "Iteration  1\n",
      "Iteration  2\n",
      "Iteration  3\n",
      "Iteration  4\n",
      "If the algorithm worked, this value should be either close to 0 or close to 1:\n",
      "0.08787346221441125\n"
     ]
    }
   ],
   "source": [
    "# Your code here\n",
    "\n",
    "it = 0\n",
    "while (clusters_old != clusters).any():  # Stop if the centroids do not change\n",
    "    print(\"Iteration \", it)\n",
    "    clusters_old = clusters.copy()\n",
    "    for idx, el in enumerate(norm_features):\n",
    "        d_0 = np.linalg.norm(c_0 - el)\n",
    "        d_1 = np.linalg.norm(c_1 - el)\n",
    "        if d_0 < d_1:\n",
    "            clusters[idx] = 0\n",
    "        else:\n",
    "            clusters[idx] = 1\n",
    "    c_0 = np.mean(norm_features[clusters == 0], axis=0)\n",
    "    c_1 = np.mean(norm_features[clusters == 1], axis=0)\n",
    "    it += 1\n",
    "    \n",
    "print(\"If the algorithm worked, this value should be either close to 0 or close to 1:\")\n",
    "print(np.mean(np.abs(clusters - target)))"
   ]
  },
  {
   "cell_type": "markdown",
   "id": "2a3b1d20",
   "metadata": {},
   "source": [
    "### Now we want to have a look on how to run k-means with scikit-learn:"
   ]
  },
  {
   "cell_type": "markdown",
   "id": "efa4e64f",
   "metadata": {},
   "source": [
    "Clustering of unlabeled data can be performed with the module <code>sklearn.cluster</code>.\n",
    "\n",
    "One important thing to note is that the clustering algorithms can take different kinds of matrix as input. All the methods accept standard data matrices of shape <code>(n_samples, n_features)</code>."
   ]
  },
  {
   "cell_type": "markdown",
   "id": "0f868332",
   "metadata": {},
   "source": [
    "First we import the KMeans algorithm and a scaler object that helps us normalizing our data."
   ]
  },
  {
   "cell_type": "code",
   "execution_count": 29,
   "id": "47629947",
   "metadata": {},
   "outputs": [],
   "source": [
    "from sklearn.cluster import KMeans\n",
    "from sklearn.preprocessing import StandardScaler"
   ]
  },
  {
   "cell_type": "markdown",
   "id": "40f9fad1",
   "metadata": {},
   "source": [
    "Scikit-learn offers two prominent methods to scale our features.\n",
    "- **Standardization** is a technique where the values are centered around the mean with a unit standard deviation. It is often used if you assume that your data is Gaussian-distributed. If you go back to Exercise 1.2, you can see that we implemented this technique.\n",
    "- **Normalization** is a technique in which values are shifted and rescaled so that they end up ranging between 0 and 1. It is also known as Min-Max scaling.\n",
    "\n",
    "Here, we can use the **StandardScaler** from scikit-learn to standardize our data."
   ]
  },
  {
   "cell_type": "code",
   "execution_count": 30,
   "id": "62436f9f",
   "metadata": {},
   "outputs": [],
   "source": [
    "sc = StandardScaler()\n",
    "norm_features = sc.fit_transform(features)"
   ]
  },
  {
   "cell_type": "markdown",
   "id": "847b30e3",
   "metadata": {},
   "source": [
    "There are 3 functions in all the clustering classes:\n",
    "- **fit()** is building the model from the training data (e.g. finding the centroids)\n",
    "- **predict()** is assigning labels to test data after building the model\n",
    "- **fit_predict()** is doing both in the same data (e.g in kmeans, it finds the centroids and assigns the labels to the dataset)\n",
    "\n",
    "We are finally ready to run k-means clustering:"
   ]
  },
  {
   "cell_type": "code",
   "execution_count": 31,
   "id": "7bba1786",
   "metadata": {},
   "outputs": [],
   "source": [
    "kmeans = KMeans(init='k-means++', n_clusters=2, n_init=10)\n",
    "kmeans.fit_predict(norm_features)\n",
    "centroids = kmeans.cluster_centers_\n",
    "labels = kmeans.labels_"
   ]
  },
  {
   "cell_type": "markdown",
   "id": "9a21bfa2",
   "metadata": {},
   "source": [
    "A simple way to check whether the distribution of the two classes (cancer or no-cancer) in each cluster is different is to print the confusion matrix. The confusion matrix for an N classes problem (in our case N=2) is an N x N matrix in which each column represents a cluster and each row a label. If the numbers on one of the diagonal are considerably larger than on the other one, this means that there is a label distribution inbalance between the clusters and therefore the algorithm worked well."
   ]
  },
  {
   "cell_type": "code",
   "execution_count": 32,
   "id": "8748e98c",
   "metadata": {},
   "outputs": [
    {
     "name": "stdout",
     "output_type": "stream",
     "text": [
      "[[ 36 176]\n",
      " [339  18]]\n"
     ]
    },
    {
     "data": {
      "image/png": "[encoded data removed]",
      "text/plain": [
       "<Figure size 432x288 with 1 Axes>"
      ]
     },
     "metadata": {
      "needs_background": "light"
     },
     "output_type": "display_data"
    }
   ],
   "source": [
    "matrix = metrics.confusion_matrix(target, labels)\n",
    "print(matrix)\n",
    "\n",
    "# let's visualize it nicely with our custom plotting function\n",
    "viz.plot(target, labels, '', 'confusion_matrix')"
   ]
  },
  {
   "cell_type": "markdown",
   "id": "cda83dd1",
   "metadata": {},
   "source": [
    "**Exercise 1.1**.\n",
    "Answer the following questions:\n",
    "- What does this confusion matrix mean?\n",
    "- What is the number of false positives?\n",
    "- What is the number of false negatives?"
   ]
  },
  {
   "cell_type": "markdown",
   "id": "3838861e",
   "metadata": {},
   "source": [
    " *Your answer here*\n",
    "\n",
    "The confusion matrix is a table in which the rows represent the true labels, while the columns represent the clusters. Therefore, each element of the matrix counts how many data points with a given label are assigned to each cluster. In this exercise we see an imbalance in the distribution of the labels between cluster 0 an 1, because the clustering algorithm has learnt how to approximately group the benign and malign cancer masses together.\n",
    "\n",
    "Ironically, in medicine a \"positive\" outcome usually corresponds to a datapoint in which a disease is present, a malign cancer in this specific dataset. The number of false positives corresponds to the number of malign-labelled data points in the cluster where they are the minority. In this case we have 36 malign cancers in cluster 0, while there are 176 malign cancers in cluster 1. We would then define the cluster 1 as \"malign cancers\" and cluster 0 as \"benign cancers\". The number of false positives is 36.\n",
    "\n",
    "Symmetrically, the number of false negatives is the number of benign-labelled data points in the cluster where they are the minority. In this run of the clustering algorithms the number of false negatives is 18."
   ]
  },
  {
   "cell_type": "markdown",
   "id": "c57bd1fd",
   "metadata": {},
   "source": [
    "For an overview of the other metrics functions available in scikit-learn, take a look at sklearn-metrics here: http://scikit-learn.org/stable/modules/classes.html#module-sklearn.metrics"
   ]
  },
  {
   "cell_type": "markdown",
   "id": "ea067c53",
   "metadata": {},
   "source": [
    "**Exercise 2**. Compare the performance of the scikit-learn implementation of k-means with the one of your own implementation. Measure the accuracy of each algorithm to check which implementation did a better job! \n",
    "\n",
    "Hint: Computing the accuracy for your numpy k-cluster algorithm might lead you into errors. In fact the algorithm just learns to separate two populations ( cancer vs non cancer) but without knowing the meaning of the label. \n",
    "\n",
    "That is also why the algorithm is good if ```metric = np.mean(np.abs(assignment - target)))``` is either close to 0 or to 1. Metric close to zero means that your algorithm has guessed the meaningful labeling. Metric close to one means that it has not guessed the meaning of the labels, but it is still able to distinguish the two populations!\n",
    "\n",
    "To compute the accuracy, have a look at your cluster assignment. If in the cluster 0 you created there are more elements belonging to the \"cancer\" group (real target value 1), define your \"0\" as the label \"cancer\" and your \"1\" as the label \"non-cancer\", otherwise  do the opposite. The label assignment can be different for the two clustering algorithms, because they do not now anything about the meaning of the label. Once you have assigned a prediction to each data point, compute the accuracy with <code>metrics.accuracy_score</code>."
   ]
  },
  {
   "cell_type": "code",
   "execution_count": 43,
   "id": "68536d04",
   "metadata": {},
   "outputs": [
    {
     "name": "stdout",
     "output_type": "stream",
     "text": [
      "accuracy of scikit-learn implementation:  0.9050966608084359\n",
      "accuracy of own implementation:  0.9121265377855887\n"
     ]
    }
   ],
   "source": [
    "# Your code here\n",
    "\n",
    "# We consider the accuracy when we consider first the cluster 0 as malign, then as benign. We take the\n",
    "# one with the higher value\n",
    "sk_acc = max(metrics.accuracy_score(labels, target), metrics.accuracy_score(1-labels, target))\n",
    "own_acc = max(metrics.accuracy_score(clusters, target), metrics.accuracy_score(1-clusters, target))\n",
    "\n",
    "print(\"accuracy of scikit-learn implementation: \", sk_acc)\n",
    "print(\"accuracy of own implementation: \", own_acc)"
   ]
  },
  {
   "cell_type": "markdown",
   "id": "10cfc7e4",
   "metadata": {},
   "source": [
    "**Exercise 3.** Usually the performances of the scikit-learn implementation of k-means performs differently from your own implementation. Can you give an explanation of this fact in your own words? (hint: look up the meaning of the parameters <code>init=k-means++</code> and <code>n_init</code>)"
   ]
  },
  {
   "cell_type": "markdown",
   "id": "e56231f5",
   "metadata": {},
   "source": [
    " *Your answer here*\n",
    "\n",
    "init: k-means++ : selects initial cluster centers for k-mean clustering in a smart way to speed up convergence. \n",
    "n_init: Number of time the k-means algorithm will be run with different centroid seeds. The final results will be the best output of n_init consecutive runs in terms of inertia.\n",
    "\n",
    "-> as it tried with different centroid seeds and as the cluster centers are chosen and not randomly taken, the final result is often better."
   ]
  },
  {
   "cell_type": "markdown",
   "id": "f94e0666",
   "metadata": {},
   "source": [
    "## Linear Regression"
   ]
  },
  {
   "cell_type": "code",
   "execution_count": 34,
   "id": "e46fe509",
   "metadata": {},
   "outputs": [],
   "source": [
    "from sklearn import linear_model"
   ]
  },
  {
   "cell_type": "markdown",
   "id": "819b53ec",
   "metadata": {},
   "source": [
    "In your linear algebra class you have studied methods to solve linear systems, even when they are overdetermined. To do that, the standard way to find a solution is to solve the system with the least squares method. Least squares is the basis of an important statistical tool: the linear regression. In fact, datasets often define an overdetermined system, as there are many more data points than features. Of course, scikit-learn offers its own implementation of it. Consider the following linear system\n",
    "\n",
    "\n",
    "$$Y = \\alpha +\\beta X +\\epsilon$$\n",
    "\n",
    "We **know**: the dataset $X$ (in the form of a matrix) and the target vector $Y$\n",
    "\n",
    "We **do not know**: the coefficient vectors $\\alpha$ and $\\beta$ and the residual noise vecotor $\\epsilon$\n",
    "\n",
    "**Goal:** Given $X$ and $Y$ produce estimates of $\\alpha$ and $\\beta$ denoted by $\\widehat{\\alpha}$ and $\\widehat{\\beta}$ "
   ]
  },
  {
   "cell_type": "markdown",
   "id": "c08c691d",
   "metadata": {},
   "source": [
    "Input data comes in the form of pairs $\\left(X_i,Y_i\\right)$  for $i=1,\\ldots ,n$\n",
    "\n",
    "The **true regression line**: For **every** individual it should hold that:\n",
    "$$Y_i = \\alpha +\\beta X_i +\\epsilon_i$$\n",
    "\n",
    "\n",
    "**Error** for the $i$-th data point is: $$ \\epsilon_i = Y_i-\\alpha-\\beta X_i $$\n",
    "\n",
    "\n",
    "The **estimated regression line** : $$\\widehat{Y_i}=\\widehat{\\alpha}+\\widehat{\\beta}X_i$$\n",
    "\n",
    "\n",
    "**Residuals** measure the distance between each observation from the estimated regression line and are defined as follows: $$\\widehat{\\epsilon_i} = Y_i-\\widehat{Y_i}$$"
   ]
  },
  {
   "cell_type": "markdown",
   "id": "7cbce249",
   "metadata": {},
   "source": [
    "##### Ordinary Least Squares Regression as an optimization problem"
   ]
  },
  {
   "cell_type": "markdown",
   "id": "db610ca0",
   "metadata": {},
   "source": [
    "**Question**: How do we find $\\widehat{\\alpha}$ and $\\widehat{\\beta}$?\n",
    "\n",
    "**Answer**: By minimizing the residuals, or *sum of squared residuals* :\n",
    "\n",
    "\\begin{eqnarray}\n",
    "\\text{SSR} & = & \\sum_{i=1}^n \\widehat{\\epsilon_i}^2 \\\\\n",
    "& = & \\sum_{i=1}^n \\left(Y_i-\\widehat{Y_i}\\right)^2\n",
    "\\end{eqnarray}"
   ]
  },
  {
   "cell_type": "markdown",
   "id": "ef328530",
   "metadata": {},
   "source": [
    "### Example I:\n",
    "Generate a dataset using the <code>datasets.makeregression()</code> function:"
   ]
  },
  {
   "cell_type": "code",
   "execution_count": 35,
   "id": "c201361e",
   "metadata": {},
   "outputs": [
    {
     "name": "stdout",
     "output_type": "stream",
     "text": [
      "(100, 1) (100,)\n"
     ]
    },
    {
     "data": {
      "image/png": "[encoded data removed]",
      "text/plain": [
       "<Figure size 432x288 with 1 Axes>"
      ]
     },
     "metadata": {
      "needs_background": "light"
     },
     "output_type": "display_data"
    }
   ],
   "source": [
    "X, y = sk_data.make_regression(n_samples=100, n_features=1, bias=0.1, noise=42, random_state=1)\n",
    "print(X.shape, y.shape)\n",
    "viz.plot(X, y, 'blue', 'scatter')"
   ]
  },
  {
   "cell_type": "code",
   "execution_count": 36,
   "id": "efd148c8",
   "metadata": {},
   "outputs": [
    {
     "name": "stdout",
     "output_type": "stream",
     "text": [
      "Coefficients: \n",
      " [84.435877] 8.613460433005589\n",
      "Mean squared error: 1466.62\n"
     ]
    },
    {
     "data": {
      "image/png": "[encoded data removed]",
      "text/plain": [
       "<Figure size 432x288 with 1 Axes>"
      ]
     },
     "metadata": {
      "needs_background": "light"
     },
     "output_type": "display_data"
    }
   ],
   "source": [
    "# Create linear regression object\n",
    "regr = linear_model.LinearRegression()\n",
    "\n",
    "regr.fit(X, y)\n",
    "y_pred = regr.predict(X)\n",
    "\n",
    "# The coefficients\n",
    "print('Coefficients: \\n', regr.coef_, regr.intercept_)\n",
    "# The mean squared error\n",
    "print('Mean squared error: %.2f'\n",
    "      % metrics.mean_squared_error(y, y_pred))\n",
    "\n",
    "# Plot outputs\n",
    "viz.plot(X, y, 'blue', 'scatter')\n",
    "viz.plot(X, y_pred, 'red', 'line')"
   ]
  },
  {
   "cell_type": "markdown",
   "id": "7771a3ca",
   "metadata": {},
   "source": [
    "### Now it's your turn!\n",
    "\n",
    "**Exercise 3**: Analyze the **multi-dimensional** california housing data with a linear regression model.\n",
    "\n",
    "First of all, load the housing data, which is already available in scikit-learn. It also comes with a lengthy description!"
   ]
  },
  {
   "cell_type": "code",
   "execution_count": 37,
   "id": "2e522917",
   "metadata": {},
   "outputs": [
    {
     "name": "stdout",
     "output_type": "stream",
     "text": [
      ".. _california_housing_dataset:\n",
      "\n",
      "California Housing dataset\n",
      "--------------------------\n",
      "\n",
      "**Data Set Characteristics:**\n",
      "\n",
      "    :Number of Instances: 20640\n",
      "\n",
      "    :Number of Attributes: 8 numeric, predictive attributes and the target\n",
      "\n",
      "    :Attribute Information:\n",
      "        - MedInc        median income in block\n",
      "        - HouseAge      median house age in block\n",
      "        - AveRooms      average number of rooms\n",
      "        - AveBedrms     average number of bedrooms\n",
      "        - Population    block population\n",
      "        - AveOccup      average house occupancy\n",
      "        - Latitude      house block latitude\n",
      "        - Longitude     house block longitude\n",
      "\n",
      "    :Missing Attribute Values: None\n",
      "\n",
      "This dataset was obtained from the StatLib repository.\n",
      "http://lib.stat.cmu.edu/datasets/\n",
      "\n",
      "The target variable is the median house value for California districts.\n",
      "\n",
      "This dataset was derived from the 1990 U.S. census, using one row per census\n",
      "block group. A block group is the smallest geographical unit for which the U.S.\n",
      "Census Bureau publishes sample data (a block group typically has a population\n",
      "of 600 to 3,000 people).\n",
      "\n",
      "It can be downloaded/loaded using the\n",
      ":func:`sklearn.datasets.fetch_california_housing` function.\n",
      "\n",
      ".. topic:: References\n",
      "\n",
      "    - Pace, R. Kelley and Ronald Barry, Sparse Spatial Autoregressions,\n",
      "      Statistics and Probability Letters, 33 (1997) 291-297\n",
      "\n"
     ]
    }
   ],
   "source": [
    "# Loading housing data\n",
    "california = sk_data.fetch_california_housing()\n",
    "X = california[\"data\"]\n",
    "y = california[\"target\"]\n",
    "\n",
    "print(california['DESCR'])"
   ]
  },
  {
   "cell_type": "markdown",
   "id": "3645b1e6",
   "metadata": {},
   "source": [
    "First step: split the data into training and testing. Hint: use the function <code>cv.train_test_split()</code>"
   ]
  },
  {
   "cell_type": "code",
   "execution_count": 38,
   "id": "58c41825",
   "metadata": {},
   "outputs": [
    {
     "name": "stdout",
     "output_type": "stream",
     "text": [
      "(16512, 8) (16512,)\n",
      "(4128, 8) (4128,)\n"
     ]
    }
   ],
   "source": [
    "# Your code here\n",
    "X_train, X_test, y_train, y_test = cv.train_test_split(X, y, test_size=0.2, random_state=0)\n",
    "print(X_train.shape, y_train.shape)\n",
    "print(X_test.shape, y_test.shape)"
   ]
  },
  {
   "cell_type": "markdown",
   "id": "685a2db7",
   "metadata": {},
   "source": [
    "Now fit a linear regression model on the train data and evaluate it by computing the MSE for both the train and the test:"
   ]
  },
  {
   "cell_type": "code",
   "execution_count": 39,
   "id": "fc8df1c6",
   "metadata": {},
   "outputs": [
    {
     "name": "stdout",
     "output_type": "stream",
     "text": [
      "Training error:  0.5234413607125448\n",
      "Test     error:  0.5289841670367246\n"
     ]
    }
   ],
   "source": [
    "# Your code here\n",
    "regr = linear_model.LinearRegression()\n",
    "regr.fit(X_train, y_train);\n",
    "# The mean square error\n",
    "print(\"Training error: \", metrics.mean_squared_error(regr.predict(X_train),y_train))\n",
    "print(\"Test     error: \", metrics.mean_squared_error(regr.predict(X_test),y_test))"
   ]
  },
  {
   "cell_type": "markdown",
   "id": "7fa81853",
   "metadata": {},
   "source": [
    "Print the coefficients for all features:"
   ]
  },
  {
   "cell_type": "code",
   "execution_count": 40,
   "id": "003edea6",
   "metadata": {},
   "outputs": [
    {
     "name": "stdout",
     "output_type": "stream",
     "text": [
      "MedInc \t 0.4333334066887782\n",
      "HouseAge \t 0.009293243374170796\n",
      "AveRooms \t -0.09864337387965082\n",
      "AveBedrms \t 0.593215487010434\n",
      "Population \t -7.561925018423745e-06\n",
      "AveOccup \t -0.00474516383178534\n",
      "Latitude \t -0.4214493359493122\n",
      "Longitude \t -0.43416604139119325\n"
     ]
    }
   ],
   "source": [
    "# Your code here\n",
    "coefficients = regr.coef_\n",
    "for i in range(len(coefficients)):\n",
    "    print(california.feature_names[i], \"\\t\", coefficients[i])"
   ]
  },
  {
   "cell_type": "markdown",
   "id": "09f54528",
   "metadata": {},
   "source": [
    "Plot the feature *MedInc* and the corresponding regression line:"
   ]
  },
  {
   "cell_type": "code",
   "execution_count": 41,
   "id": "4b1cd0bc",
   "metadata": {},
   "outputs": [
    {
     "data": {
      "image/png": "[encoded data removed]",
      "text/plain": [
       "<Figure size 432x288 with 1 Axes>"
      ]
     },
     "metadata": {
      "needs_background": "light"
     },
     "output_type": "display_data"
    }
   ],
   "source": [
    "# Your code here\n",
    "subX_train = X_train[:, 0]\n",
    "subX_test = X_test[:, 0]\n",
    "viz.plot(subX_train, y_train, \"slategray\", 'scatter')\n",
    "viz.plot(subX_train, coefficients[0]*subX_train, 'seagreen', 'line')"
   ]
  },
  {
   "cell_type": "markdown",
   "id": "d5747fec",
   "metadata": {},
   "source": [
    "Look at some example predictions on the test set and compare to the ground-truth labels:"
   ]
  },
  {
   "cell_type": "code",
   "execution_count": 42,
   "id": "b70caee0",
   "metadata": {},
   "outputs": [
    {
     "name": "stdout",
     "output_type": "stream",
     "text": [
      "Prediction:  0.9358414708581932\n",
      "True value:  1.355\n",
      "\n",
      "\n",
      "Prediction:  1.9378790174574476\n",
      "True value:  2.032\n",
      "\n",
      "\n",
      "Prediction:  1.791154131012064\n",
      "True value:  1.976\n",
      "\n",
      "\n",
      "Prediction:  2.9597497705081963\n",
      "True value:  3.515\n",
      "\n",
      "\n",
      "Prediction:  1.7370686678584732\n",
      "True value:  1.333\n",
      "\n",
      "\n",
      "Prediction:  1.339872820579501\n",
      "True value:  1.27\n",
      "\n",
      "\n",
      "Prediction:  2.9485242475219167\n",
      "True value:  4.6\n",
      "\n",
      "\n",
      "Prediction:  2.597061488464462\n",
      "True value:  2.286\n",
      "\n",
      "\n",
      "Prediction:  2.7524260248638086\n",
      "True value:  2.4\n",
      "\n",
      "\n",
      "Prediction:  0.8838369996725604\n",
      "True value:  0.656\n",
      "\n",
      "\n",
      "Prediction:  1.9334408067064786\n",
      "True value:  2.348\n",
      "\n",
      "\n",
      "Prediction:  2.507991615760247\n",
      "True value:  3.086\n",
      "\n",
      "\n",
      "Prediction:  2.982818453614307\n",
      "True value:  2.672\n",
      "\n",
      "\n",
      "Prediction:  2.4657769961925453\n",
      "True value:  2.043\n",
      "\n",
      "\n",
      "Prediction:  2.3117892575796617\n",
      "True value:  2.318\n",
      "\n",
      "\n",
      "Prediction:  2.169256133427737\n",
      "True value:  1.785\n",
      "\n",
      "\n",
      "Prediction:  1.7503392094093329\n",
      "True value:  0.675\n",
      "\n",
      "\n",
      "Prediction:  2.1039857987337527\n",
      "True value:  5.00001\n",
      "\n",
      "\n",
      "Prediction:  1.982634574666939\n",
      "True value:  1.541\n",
      "\n",
      "\n",
      "Prediction:  2.4653960954031646\n",
      "True value:  2.162\n",
      "\n",
      "\n"
     ]
    }
   ],
   "source": [
    "# Your code here\n",
    "y_pred = regr.predict(X_test)\n",
    "indices = np.random.choice(np.arange(1000), 20, replace=False)\n",
    "for idx in indices:\n",
    "    print('Prediction: ', y_pred[idx])\n",
    "    print('True value: ', y_test[idx])\n",
    "    print('\\n')"
   ]
  }
 ],
 "metadata": {
  "kernelspec": {
   "display_name": "Python 3 (ipykernel)",
   "language": "python",
   "name": "python3"
  },
  "language_info": {
   "codemirror_mode": {
    "name": "ipython",
    "version": 3
   },
   "file_extension": ".py",
   "mimetype": "text/x-python",
   "name": "python",
   "nbconvert_exporter": "python",
   "pygments_lexer": "ipython3",
   "version": "3.9.6"
  }
 },
 "nbformat": 4,
 "nbformat_minor": 5
}
